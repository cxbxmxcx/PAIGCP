{
  "nbformat": 4,
  "nbformat_minor": 0,
  "metadata": {
    "colab": {
      "name": "PAIGCP_text_cleaning.ipynb",
      "provenance": [],
      "authorship_tag": "ABX9TyMSP4WgeV5o3jxbRp687qIZ",
      "include_colab_link": true
    },
    "kernelspec": {
      "name": "python3",
      "display_name": "Python 3"
    }
  },
  "cells": [
    {
      "cell_type": "markdown",
      "metadata": {
        "id": "view-in-github",
        "colab_type": "text"
      },
      "source": [
        "<a href=\"https://colab.research.google.com/github/cxbxmxcx/PAIGCP/blob/master/PAIGCP_text_cleaning.ipynb\" target=\"_parent\"><img src=\"https://colab.research.google.com/assets/colab-badge.svg\" alt=\"Open In Colab\"/></a>"
      ]
    },
    {
      "cell_type": "code",
      "metadata": {
        "id": "DbkMepZnYVHs",
        "colab_type": "code",
        "colab": {}
      },
      "source": [
        "import urllib.request"
      ],
      "execution_count": 1,
      "outputs": []
    },
    {
      "cell_type": "markdown",
      "metadata": {
        "id": "SLUJ5DYpY_yH",
        "colab_type": "text"
      },
      "source": [
        "Pull down Mody Dick"
      ]
    },
    {
      "cell_type": "code",
      "metadata": {
        "id": "dPyg06asYkY_",
        "colab_type": "code",
        "colab": {}
      },
      "source": [
        "url = \"https://www.gutenberg.org/files/2701/2701-0.txt\"\n",
        "file = urllib.request.urlopen(url)"
      ],
      "execution_count": 2,
      "outputs": []
    },
    {
      "cell_type": "markdown",
      "metadata": {
        "id": "XFw0-dPOZDCZ",
        "colab_type": "text"
      },
      "source": [
        "Load the text"
      ]
    },
    {
      "cell_type": "code",
      "metadata": {
        "id": "ER0LYVxLYo2k",
        "colab_type": "code",
        "colab": {
          "base_uri": "https://localhost:8080/",
          "height": 52
        },
        "outputId": "755b6782-95fc-4e1e-cccd-9e0b360f4cfb"
      },
      "source": [
        "text = [line.decode('utf-8') for line in file]\n",
        "text = ''.join(text)\n",
        "text[7600:8000]"
      ],
      "execution_count": 3,
      "outputs": [
        {
          "output_type": "execute_result",
          "data": {
            "application/vnd.google.colaboratory.intrinsic+json": {
              "type": "string"
            },
            "text/plain": [
              "'ok whatsoever,\\r\\n  sacred or profane. Therefore you must not, in every case at least,\\r\\n  take the higgledy-piggledy whale statements, however authentic, in\\r\\n  these extracts, for veritable gospel cetology. Far from it. As\\r\\n  touching the ancient authors generally, as well as the poets here\\r\\n  appearing, these extracts are solely valuable or entertaining, as\\r\\n  affording a glancing bird’s eye view o'"
            ]
          },
          "metadata": {
            "tags": []
          },
          "execution_count": 3
        }
      ]
    },
    {
      "cell_type": "markdown",
      "metadata": {
        "id": "yN2YwlWcY72h",
        "colab_type": "text"
      },
      "source": [
        "Tokenize\n"
      ]
    },
    {
      "cell_type": "code",
      "metadata": {
        "id": "WmXGjk_YY9Wc",
        "colab_type": "code",
        "colab": {
          "base_uri": "https://localhost:8080/",
          "height": 391
        },
        "outputId": "b0b21983-ad30-49d5-c573-cf29a8412344"
      },
      "source": [
        "tokens = text.split()\n",
        "tokens[200:222]"
      ],
      "execution_count": 5,
      "outputs": [
        {
          "output_type": "execute_result",
          "data": {
            "text/plain": [
              "['Merry',\n",
              " 'Christmas.',\n",
              " 'CHAPTER',\n",
              " '23.',\n",
              " 'The',\n",
              " 'Lee',\n",
              " 'Shore.',\n",
              " 'CHAPTER',\n",
              " '24.',\n",
              " 'The',\n",
              " 'Advocate.',\n",
              " 'CHAPTER',\n",
              " '25.',\n",
              " 'Postscript.',\n",
              " 'CHAPTER',\n",
              " '26.',\n",
              " 'Knights',\n",
              " 'and',\n",
              " 'Squires.',\n",
              " 'CHAPTER',\n",
              " '27.',\n",
              " 'Knights']"
            ]
          },
          "metadata": {
            "tags": []
          },
          "execution_count": 5
        }
      ]
    },
    {
      "cell_type": "markdown",
      "metadata": {
        "id": "GHvzrkUsZUs8",
        "colab_type": "text"
      },
      "source": [
        "Lowercase"
      ]
    },
    {
      "cell_type": "code",
      "metadata": {
        "id": "bb2pv0mLZLxV",
        "colab_type": "code",
        "colab": {
          "base_uri": "https://localhost:8080/",
          "height": 391
        },
        "outputId": "b8d5ddd8-06af-4abe-9d8f-1823752c145d"
      },
      "source": [
        "tokens = text.lower().split()\n",
        "tokens[200:222]"
      ],
      "execution_count": 6,
      "outputs": [
        {
          "output_type": "execute_result",
          "data": {
            "text/plain": [
              "['merry',\n",
              " 'christmas.',\n",
              " 'chapter',\n",
              " '23.',\n",
              " 'the',\n",
              " 'lee',\n",
              " 'shore.',\n",
              " 'chapter',\n",
              " '24.',\n",
              " 'the',\n",
              " 'advocate.',\n",
              " 'chapter',\n",
              " '25.',\n",
              " 'postscript.',\n",
              " 'chapter',\n",
              " '26.',\n",
              " 'knights',\n",
              " 'and',\n",
              " 'squires.',\n",
              " 'chapter',\n",
              " '27.',\n",
              " 'knights']"
            ]
          },
          "metadata": {
            "tags": []
          },
          "execution_count": 6
        }
      ]
    },
    {
      "cell_type": "markdown",
      "metadata": {
        "id": "zA8tdJU0ZXZC",
        "colab_type": "text"
      },
      "source": [
        "Punctuation"
      ]
    },
    {
      "cell_type": "code",
      "metadata": {
        "id": "_qQo2cT7ZZg5",
        "colab_type": "code",
        "colab": {
          "base_uri": "https://localhost:8080/",
          "height": 391
        },
        "outputId": "ee052edb-ccd8-4f12-f0c3-96380698d779"
      },
      "source": [
        "import string\n",
        "table = str.maketrans('', '', string.punctuation)\n",
        "\n",
        "tokens = [w.translate(table) for w in tokens]\n",
        "\n",
        "tokens[200:222]"
      ],
      "execution_count": 7,
      "outputs": [
        {
          "output_type": "execute_result",
          "data": {
            "text/plain": [
              "['merry',\n",
              " 'christmas',\n",
              " 'chapter',\n",
              " '23',\n",
              " 'the',\n",
              " 'lee',\n",
              " 'shore',\n",
              " 'chapter',\n",
              " '24',\n",
              " 'the',\n",
              " 'advocate',\n",
              " 'chapter',\n",
              " '25',\n",
              " 'postscript',\n",
              " 'chapter',\n",
              " '26',\n",
              " 'knights',\n",
              " 'and',\n",
              " 'squires',\n",
              " 'chapter',\n",
              " '27',\n",
              " 'knights']"
            ]
          },
          "metadata": {
            "tags": []
          },
          "execution_count": 7
        }
      ]
    },
    {
      "cell_type": "markdown",
      "metadata": {
        "id": "2EHfQLMOZoOt",
        "colab_type": "text"
      },
      "source": [
        "Alpha only"
      ]
    },
    {
      "cell_type": "code",
      "metadata": {
        "id": "Npw5JfpeZp-2",
        "colab_type": "code",
        "colab": {
          "base_uri": "https://localhost:8080/",
          "height": 391
        },
        "outputId": "b6d7c335-ccea-4f07-dbc1-8d08486ac027"
      },
      "source": [
        "tokens = [word for word in tokens if word.isalpha()]\n",
        "tokens[200:222]"
      ],
      "execution_count": 8,
      "outputs": [
        {
          "output_type": "execute_result",
          "data": {
            "text/plain": [
              "['queen',\n",
              " 'mab',\n",
              " 'chapter',\n",
              " 'cetology',\n",
              " 'chapter',\n",
              " 'the',\n",
              " 'specksnyder',\n",
              " 'chapter',\n",
              " 'the',\n",
              " 'cabintable',\n",
              " 'chapter',\n",
              " 'the',\n",
              " 'masthead',\n",
              " 'chapter',\n",
              " 'the',\n",
              " 'quarterdeck',\n",
              " 'chapter',\n",
              " 'sunset',\n",
              " 'chapter',\n",
              " 'dusk',\n",
              " 'chapter',\n",
              " 'first']"
            ]
          },
          "metadata": {
            "tags": []
          },
          "execution_count": 8
        }
      ]
    }
  ]
}